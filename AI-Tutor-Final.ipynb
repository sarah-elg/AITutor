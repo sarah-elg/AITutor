{
 "cells": [
  {
   "cell_type": "code",
   "execution_count": null,
   "id": "b275d92a",
   "metadata": {},
   "outputs": [],
   "source": [
    "# Zelle 1: Importe und Konfiguration\n",
    "import os\n",
    "import pickle\n",
    "from langchain_community.document_loaders import PyPDFLoader\n",
    "from langchain.text_splitter import RecursiveCharacterTextSplitter\n",
    "from langchain_huggingface import HuggingFaceEmbeddings\n",
    "from langchain_community.vectorstores import Chroma\n",
    "from langchain_ollama import OllamaLLM\n",
    "import gradio as gr\n",
    "import random\n",
    "\n",
    "# Definieren Sie die Pfade\n",
    "MAIN_SCRIPT_PATH = \"./BS2zsm.pdf\"\n",
    "LITERATURE_DIR = \"./Zusatz\"\n",
    "CACHE_DIR = \"./cache\"\n",
    "VECTORSTORE_PATH = os.path.join(CACHE_DIR, \"chroma_db\")\n",
    "METADATA_PATH = os.path.join(CACHE_DIR, \"metadata.pkl\")\n",
    "\n",
    "# Stellen Sie sicher, dass das Cache-Verzeichnis existiert\n",
    "os.makedirs(CACHE_DIR, exist_ok=True)\n",
    "\n",
    "# Importiere die Module aus dem bs2_tutor Paket\n",
    "from data_loader import load_pdfs, create_chunks, load_vectorstore, create_vectorstore\n",
    "from tutor import OptimizedBS2Tutor\n",
    "from gradio_interface import GradioInterface"
   ]
  },
  {
   "cell_type": "code",
   "execution_count": null,
   "id": "d600cf44",
   "metadata": {},
   "outputs": [],
   "source": [
    "# Zelle 2: Ausführung der Hauptfunktion\n",
    "def main():\n",
    "    # Prüfe, ob der Vektorspeicher bereits existiert\n",
    "    if os.path.exists(VECTORSTORE_PATH) and os.path.exists(METADATA_PATH):\n",
    "        print(\"Lade existierenden Vektorspeicher...\")\n",
    "        vectorstore, metadata = load_vectorstore(VECTORSTORE_PATH, METADATA_PATH)\n",
    "    else:\n",
    "        print(\"Erstelle neuen Vektorspeicher...\")\n",
    "        # Lade PDFs\n",
    "        documents = load_pdfs(MAIN_SCRIPT_PATH, LITERATURE_DIR)\n",
    "\n",
    "        # Erstelle Chunks\n",
    "        chunks = create_chunks(documents)\n",
    "\n",
    "        # Erstelle Vektorspeicher\n",
    "        vectorstore, metadata = create_vectorstore(chunks, VECTORSTORE_PATH, METADATA_PATH)\n",
    "\n",
    "    # Initialisiere den Tutor\n",
    "    tutor = OptimizedBS2Tutor(vectorstore)\n",
    "\n",
    "    # Erstelle und starte das Gradio-Interface\n",
    "    interface = GradioInterface(tutor)\n",
    "    demo = interface.create_interface()\n",
    "    return demo, tutor, vectorstore\n",
    "\n",
    "# Führe die Hauptfunktion aus\n",
    "demo, tutor, vectorstore = main()"
   ]
  },
  {
   "cell_type": "code",
   "execution_count": null,
   "id": "fe75b51b",
   "metadata": {},
   "outputs": [],
   "source": [
    "# Zelle 3: Starte das Interface\n",
    "demo.launch(share=True)"
   ]
  }
 ],
 "metadata": {
  "kernelspec": {
   "display_name": "aitutor",
   "language": "python",
   "name": "python3"
  },
  "language_info": {
   "codemirror_mode": {
    "name": "ipython",
    "version": 3
   },
   "file_extension": ".py",
   "mimetype": "text/x-python",
   "name": "python",
   "nbconvert_exporter": "python",
   "pygments_lexer": "ipython3",
   "version": "3.12.9"
  }
 },
 "nbformat": 4,
 "nbformat_minor": 5
}
