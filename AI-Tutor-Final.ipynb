{
 "cells": [
  {
   "cell_type": "code",
   "execution_count": null,
   "id": "302c4688",
   "metadata": {},
   "outputs": [],
   "source": [
    "# Importiere die Hauptfunktion aus main.py\n",
    "from main import create_demo\n",
    "\n",
    "# Erstelle das Demo-Interface\n",
    "demo, tutor, vectorstore = create_demo()\n",
    "\n",
    "# Starte das Interface\n",
    "demo.launch(share=True)"
   ]
  }
 ],
 "metadata": {
  "kernelspec": {
   "display_name": "aitutor",
   "language": "python",
   "name": "python3"
  },
  "language_info": {
   "codemirror_mode": {
    "name": "ipython",
    "version": 3
   },
   "file_extension": ".py",
   "mimetype": "text/x-python",
   "name": "python",
   "nbconvert_exporter": "python",
   "pygments_lexer": "ipython3",
   "version": "3.12.9"
  }
 },
 "nbformat": 4,
 "nbformat_minor": 5
}
